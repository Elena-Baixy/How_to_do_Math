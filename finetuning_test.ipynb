{
  "nbformat": 4,
  "nbformat_minor": 0,
  "metadata": {
    "colab": {
      "provenance": [],
      "gpuType": "T4"
    },
    "kernelspec": {
      "name": "python3",
      "display_name": "Python 3"
    },
    "language_info": {
      "name": "python"
    },
    "accelerator": "GPU",
    "widgets": {
      "application/vnd.jupyter.widget-state+json": {
        "c39d96ebb12e4dbab133b900f121f21d": {
          "model_module": "@jupyter-widgets/controls",
          "model_name": "HBoxModel",
          "model_module_version": "1.5.0",
          "state": {
            "_dom_classes": [],
            "_model_module": "@jupyter-widgets/controls",
            "_model_module_version": "1.5.0",
            "_model_name": "HBoxModel",
            "_view_count": null,
            "_view_module": "@jupyter-widgets/controls",
            "_view_module_version": "1.5.0",
            "_view_name": "HBoxView",
            "box_style": "",
            "children": [
              "IPY_MODEL_2a66df47310743c7ae9a98feae9aef36",
              "IPY_MODEL_218ee06d5777445197f53847b17e56d0",
              "IPY_MODEL_bf6b1d781a0b49b5a52d8ad8fab927b2"
            ],
            "layout": "IPY_MODEL_3e91f1e1f25449e7a07c926bdb5bea32"
          }
        },
        "2a66df47310743c7ae9a98feae9aef36": {
          "model_module": "@jupyter-widgets/controls",
          "model_name": "HTMLModel",
          "model_module_version": "1.5.0",
          "state": {
            "_dom_classes": [],
            "_model_module": "@jupyter-widgets/controls",
            "_model_module_version": "1.5.0",
            "_model_name": "HTMLModel",
            "_view_count": null,
            "_view_module": "@jupyter-widgets/controls",
            "_view_module_version": "1.5.0",
            "_view_name": "HTMLView",
            "description": "",
            "description_tooltip": null,
            "layout": "IPY_MODEL_8d478527c8604bb0bb3ca2b25fd4dd19",
            "placeholder": "​",
            "style": "IPY_MODEL_7eacf17c58a94d199e8f2f93a85c6d74",
            "value": "Map: 100%"
          }
        },
        "218ee06d5777445197f53847b17e56d0": {
          "model_module": "@jupyter-widgets/controls",
          "model_name": "FloatProgressModel",
          "model_module_version": "1.5.0",
          "state": {
            "_dom_classes": [],
            "_model_module": "@jupyter-widgets/controls",
            "_model_module_version": "1.5.0",
            "_model_name": "FloatProgressModel",
            "_view_count": null,
            "_view_module": "@jupyter-widgets/controls",
            "_view_module_version": "1.5.0",
            "_view_name": "ProgressView",
            "bar_style": "success",
            "description": "",
            "description_tooltip": null,
            "layout": "IPY_MODEL_03ce24ab691d4e3f9e60caa15e8db418",
            "max": 4027,
            "min": 0,
            "orientation": "horizontal",
            "style": "IPY_MODEL_7d9e03ad2fdc4b8193748aa41a84db68",
            "value": 4027
          }
        },
        "bf6b1d781a0b49b5a52d8ad8fab927b2": {
          "model_module": "@jupyter-widgets/controls",
          "model_name": "HTMLModel",
          "model_module_version": "1.5.0",
          "state": {
            "_dom_classes": [],
            "_model_module": "@jupyter-widgets/controls",
            "_model_module_version": "1.5.0",
            "_model_name": "HTMLModel",
            "_view_count": null,
            "_view_module": "@jupyter-widgets/controls",
            "_view_module_version": "1.5.0",
            "_view_name": "HTMLView",
            "description": "",
            "description_tooltip": null,
            "layout": "IPY_MODEL_9facf3a70e244987b90a5f949294167e",
            "placeholder": "​",
            "style": "IPY_MODEL_562aa5047d264c1a913636570271fc2f",
            "value": " 4027/4027 [00:05&lt;00:00, 910.27 examples/s]"
          }
        },
        "3e91f1e1f25449e7a07c926bdb5bea32": {
          "model_module": "@jupyter-widgets/base",
          "model_name": "LayoutModel",
          "model_module_version": "1.2.0",
          "state": {
            "_model_module": "@jupyter-widgets/base",
            "_model_module_version": "1.2.0",
            "_model_name": "LayoutModel",
            "_view_count": null,
            "_view_module": "@jupyter-widgets/base",
            "_view_module_version": "1.2.0",
            "_view_name": "LayoutView",
            "align_content": null,
            "align_items": null,
            "align_self": null,
            "border": null,
            "bottom": null,
            "display": null,
            "flex": null,
            "flex_flow": null,
            "grid_area": null,
            "grid_auto_columns": null,
            "grid_auto_flow": null,
            "grid_auto_rows": null,
            "grid_column": null,
            "grid_gap": null,
            "grid_row": null,
            "grid_template_areas": null,
            "grid_template_columns": null,
            "grid_template_rows": null,
            "height": null,
            "justify_content": null,
            "justify_items": null,
            "left": null,
            "margin": null,
            "max_height": null,
            "max_width": null,
            "min_height": null,
            "min_width": null,
            "object_fit": null,
            "object_position": null,
            "order": null,
            "overflow": null,
            "overflow_x": null,
            "overflow_y": null,
            "padding": null,
            "right": null,
            "top": null,
            "visibility": null,
            "width": null
          }
        },
        "8d478527c8604bb0bb3ca2b25fd4dd19": {
          "model_module": "@jupyter-widgets/base",
          "model_name": "LayoutModel",
          "model_module_version": "1.2.0",
          "state": {
            "_model_module": "@jupyter-widgets/base",
            "_model_module_version": "1.2.0",
            "_model_name": "LayoutModel",
            "_view_count": null,
            "_view_module": "@jupyter-widgets/base",
            "_view_module_version": "1.2.0",
            "_view_name": "LayoutView",
            "align_content": null,
            "align_items": null,
            "align_self": null,
            "border": null,
            "bottom": null,
            "display": null,
            "flex": null,
            "flex_flow": null,
            "grid_area": null,
            "grid_auto_columns": null,
            "grid_auto_flow": null,
            "grid_auto_rows": null,
            "grid_column": null,
            "grid_gap": null,
            "grid_row": null,
            "grid_template_areas": null,
            "grid_template_columns": null,
            "grid_template_rows": null,
            "height": null,
            "justify_content": null,
            "justify_items": null,
            "left": null,
            "margin": null,
            "max_height": null,
            "max_width": null,
            "min_height": null,
            "min_width": null,
            "object_fit": null,
            "object_position": null,
            "order": null,
            "overflow": null,
            "overflow_x": null,
            "overflow_y": null,
            "padding": null,
            "right": null,
            "top": null,
            "visibility": null,
            "width": null
          }
        },
        "7eacf17c58a94d199e8f2f93a85c6d74": {
          "model_module": "@jupyter-widgets/controls",
          "model_name": "DescriptionStyleModel",
          "model_module_version": "1.5.0",
          "state": {
            "_model_module": "@jupyter-widgets/controls",
            "_model_module_version": "1.5.0",
            "_model_name": "DescriptionStyleModel",
            "_view_count": null,
            "_view_module": "@jupyter-widgets/base",
            "_view_module_version": "1.2.0",
            "_view_name": "StyleView",
            "description_width": ""
          }
        },
        "03ce24ab691d4e3f9e60caa15e8db418": {
          "model_module": "@jupyter-widgets/base",
          "model_name": "LayoutModel",
          "model_module_version": "1.2.0",
          "state": {
            "_model_module": "@jupyter-widgets/base",
            "_model_module_version": "1.2.0",
            "_model_name": "LayoutModel",
            "_view_count": null,
            "_view_module": "@jupyter-widgets/base",
            "_view_module_version": "1.2.0",
            "_view_name": "LayoutView",
            "align_content": null,
            "align_items": null,
            "align_self": null,
            "border": null,
            "bottom": null,
            "display": null,
            "flex": null,
            "flex_flow": null,
            "grid_area": null,
            "grid_auto_columns": null,
            "grid_auto_flow": null,
            "grid_auto_rows": null,
            "grid_column": null,
            "grid_gap": null,
            "grid_row": null,
            "grid_template_areas": null,
            "grid_template_columns": null,
            "grid_template_rows": null,
            "height": null,
            "justify_content": null,
            "justify_items": null,
            "left": null,
            "margin": null,
            "max_height": null,
            "max_width": null,
            "min_height": null,
            "min_width": null,
            "object_fit": null,
            "object_position": null,
            "order": null,
            "overflow": null,
            "overflow_x": null,
            "overflow_y": null,
            "padding": null,
            "right": null,
            "top": null,
            "visibility": null,
            "width": null
          }
        },
        "7d9e03ad2fdc4b8193748aa41a84db68": {
          "model_module": "@jupyter-widgets/controls",
          "model_name": "ProgressStyleModel",
          "model_module_version": "1.5.0",
          "state": {
            "_model_module": "@jupyter-widgets/controls",
            "_model_module_version": "1.5.0",
            "_model_name": "ProgressStyleModel",
            "_view_count": null,
            "_view_module": "@jupyter-widgets/base",
            "_view_module_version": "1.2.0",
            "_view_name": "StyleView",
            "bar_color": null,
            "description_width": ""
          }
        },
        "9facf3a70e244987b90a5f949294167e": {
          "model_module": "@jupyter-widgets/base",
          "model_name": "LayoutModel",
          "model_module_version": "1.2.0",
          "state": {
            "_model_module": "@jupyter-widgets/base",
            "_model_module_version": "1.2.0",
            "_model_name": "LayoutModel",
            "_view_count": null,
            "_view_module": "@jupyter-widgets/base",
            "_view_module_version": "1.2.0",
            "_view_name": "LayoutView",
            "align_content": null,
            "align_items": null,
            "align_self": null,
            "border": null,
            "bottom": null,
            "display": null,
            "flex": null,
            "flex_flow": null,
            "grid_area": null,
            "grid_auto_columns": null,
            "grid_auto_flow": null,
            "grid_auto_rows": null,
            "grid_column": null,
            "grid_gap": null,
            "grid_row": null,
            "grid_template_areas": null,
            "grid_template_columns": null,
            "grid_template_rows": null,
            "height": null,
            "justify_content": null,
            "justify_items": null,
            "left": null,
            "margin": null,
            "max_height": null,
            "max_width": null,
            "min_height": null,
            "min_width": null,
            "object_fit": null,
            "object_position": null,
            "order": null,
            "overflow": null,
            "overflow_x": null,
            "overflow_y": null,
            "padding": null,
            "right": null,
            "top": null,
            "visibility": null,
            "width": null
          }
        },
        "562aa5047d264c1a913636570271fc2f": {
          "model_module": "@jupyter-widgets/controls",
          "model_name": "DescriptionStyleModel",
          "model_module_version": "1.5.0",
          "state": {
            "_model_module": "@jupyter-widgets/controls",
            "_model_module_version": "1.5.0",
            "_model_name": "DescriptionStyleModel",
            "_view_count": null,
            "_view_module": "@jupyter-widgets/base",
            "_view_module_version": "1.2.0",
            "_view_name": "StyleView",
            "description_width": ""
          }
        },
        "2961581d700043f5bd1e79309dbbf1f2": {
          "model_module": "@jupyter-widgets/controls",
          "model_name": "HBoxModel",
          "model_module_version": "1.5.0",
          "state": {
            "_dom_classes": [],
            "_model_module": "@jupyter-widgets/controls",
            "_model_module_version": "1.5.0",
            "_model_name": "HBoxModel",
            "_view_count": null,
            "_view_module": "@jupyter-widgets/controls",
            "_view_module_version": "1.5.0",
            "_view_name": "HBoxView",
            "box_style": "",
            "children": [
              "IPY_MODEL_ba822e72ebb9443b826014c820ee7ccd",
              "IPY_MODEL_b74f8eda582b4d4ebbd76ed28fbabeda",
              "IPY_MODEL_9ce1a2fd42a84790bde14972a9326c0f"
            ],
            "layout": "IPY_MODEL_54350e4f67aa4141b138ff41ef3140d0"
          }
        },
        "ba822e72ebb9443b826014c820ee7ccd": {
          "model_module": "@jupyter-widgets/controls",
          "model_name": "HTMLModel",
          "model_module_version": "1.5.0",
          "state": {
            "_dom_classes": [],
            "_model_module": "@jupyter-widgets/controls",
            "_model_module_version": "1.5.0",
            "_model_name": "HTMLModel",
            "_view_count": null,
            "_view_module": "@jupyter-widgets/controls",
            "_view_module_version": "1.5.0",
            "_view_name": "HTMLView",
            "description": "",
            "description_tooltip": null,
            "layout": "IPY_MODEL_19c24ddc8c0a4316a8cbf6ad427ae918",
            "placeholder": "​",
            "style": "IPY_MODEL_eafe3dd557ef4fcda99a4ddf3f0a17fc",
            "value": "Map: 100%"
          }
        },
        "b74f8eda582b4d4ebbd76ed28fbabeda": {
          "model_module": "@jupyter-widgets/controls",
          "model_name": "FloatProgressModel",
          "model_module_version": "1.5.0",
          "state": {
            "_dom_classes": [],
            "_model_module": "@jupyter-widgets/controls",
            "_model_module_version": "1.5.0",
            "_model_name": "FloatProgressModel",
            "_view_count": null,
            "_view_module": "@jupyter-widgets/controls",
            "_view_module_version": "1.5.0",
            "_view_name": "ProgressView",
            "bar_style": "success",
            "description": "",
            "description_tooltip": null,
            "layout": "IPY_MODEL_b1ce8b2e11eb44c2a7581674ac13f0e4",
            "max": 448,
            "min": 0,
            "orientation": "horizontal",
            "style": "IPY_MODEL_59e217313f5e460580bf2e20fbe3f748",
            "value": 448
          }
        },
        "9ce1a2fd42a84790bde14972a9326c0f": {
          "model_module": "@jupyter-widgets/controls",
          "model_name": "HTMLModel",
          "model_module_version": "1.5.0",
          "state": {
            "_dom_classes": [],
            "_model_module": "@jupyter-widgets/controls",
            "_model_module_version": "1.5.0",
            "_model_name": "HTMLModel",
            "_view_count": null,
            "_view_module": "@jupyter-widgets/controls",
            "_view_module_version": "1.5.0",
            "_view_name": "HTMLView",
            "description": "",
            "description_tooltip": null,
            "layout": "IPY_MODEL_738c6a8b1d2944589409eba6849d6fdc",
            "placeholder": "​",
            "style": "IPY_MODEL_d47257bf31c34f6694529befab4374c2",
            "value": " 448/448 [00:00&lt;00:00, 1633.41 examples/s]"
          }
        },
        "54350e4f67aa4141b138ff41ef3140d0": {
          "model_module": "@jupyter-widgets/base",
          "model_name": "LayoutModel",
          "model_module_version": "1.2.0",
          "state": {
            "_model_module": "@jupyter-widgets/base",
            "_model_module_version": "1.2.0",
            "_model_name": "LayoutModel",
            "_view_count": null,
            "_view_module": "@jupyter-widgets/base",
            "_view_module_version": "1.2.0",
            "_view_name": "LayoutView",
            "align_content": null,
            "align_items": null,
            "align_self": null,
            "border": null,
            "bottom": null,
            "display": null,
            "flex": null,
            "flex_flow": null,
            "grid_area": null,
            "grid_auto_columns": null,
            "grid_auto_flow": null,
            "grid_auto_rows": null,
            "grid_column": null,
            "grid_gap": null,
            "grid_row": null,
            "grid_template_areas": null,
            "grid_template_columns": null,
            "grid_template_rows": null,
            "height": null,
            "justify_content": null,
            "justify_items": null,
            "left": null,
            "margin": null,
            "max_height": null,
            "max_width": null,
            "min_height": null,
            "min_width": null,
            "object_fit": null,
            "object_position": null,
            "order": null,
            "overflow": null,
            "overflow_x": null,
            "overflow_y": null,
            "padding": null,
            "right": null,
            "top": null,
            "visibility": null,
            "width": null
          }
        },
        "19c24ddc8c0a4316a8cbf6ad427ae918": {
          "model_module": "@jupyter-widgets/base",
          "model_name": "LayoutModel",
          "model_module_version": "1.2.0",
          "state": {
            "_model_module": "@jupyter-widgets/base",
            "_model_module_version": "1.2.0",
            "_model_name": "LayoutModel",
            "_view_count": null,
            "_view_module": "@jupyter-widgets/base",
            "_view_module_version": "1.2.0",
            "_view_name": "LayoutView",
            "align_content": null,
            "align_items": null,
            "align_self": null,
            "border": null,
            "bottom": null,
            "display": null,
            "flex": null,
            "flex_flow": null,
            "grid_area": null,
            "grid_auto_columns": null,
            "grid_auto_flow": null,
            "grid_auto_rows": null,
            "grid_column": null,
            "grid_gap": null,
            "grid_row": null,
            "grid_template_areas": null,
            "grid_template_columns": null,
            "grid_template_rows": null,
            "height": null,
            "justify_content": null,
            "justify_items": null,
            "left": null,
            "margin": null,
            "max_height": null,
            "max_width": null,
            "min_height": null,
            "min_width": null,
            "object_fit": null,
            "object_position": null,
            "order": null,
            "overflow": null,
            "overflow_x": null,
            "overflow_y": null,
            "padding": null,
            "right": null,
            "top": null,
            "visibility": null,
            "width": null
          }
        },
        "eafe3dd557ef4fcda99a4ddf3f0a17fc": {
          "model_module": "@jupyter-widgets/controls",
          "model_name": "DescriptionStyleModel",
          "model_module_version": "1.5.0",
          "state": {
            "_model_module": "@jupyter-widgets/controls",
            "_model_module_version": "1.5.0",
            "_model_name": "DescriptionStyleModel",
            "_view_count": null,
            "_view_module": "@jupyter-widgets/base",
            "_view_module_version": "1.2.0",
            "_view_name": "StyleView",
            "description_width": ""
          }
        },
        "b1ce8b2e11eb44c2a7581674ac13f0e4": {
          "model_module": "@jupyter-widgets/base",
          "model_name": "LayoutModel",
          "model_module_version": "1.2.0",
          "state": {
            "_model_module": "@jupyter-widgets/base",
            "_model_module_version": "1.2.0",
            "_model_name": "LayoutModel",
            "_view_count": null,
            "_view_module": "@jupyter-widgets/base",
            "_view_module_version": "1.2.0",
            "_view_name": "LayoutView",
            "align_content": null,
            "align_items": null,
            "align_self": null,
            "border": null,
            "bottom": null,
            "display": null,
            "flex": null,
            "flex_flow": null,
            "grid_area": null,
            "grid_auto_columns": null,
            "grid_auto_flow": null,
            "grid_auto_rows": null,
            "grid_column": null,
            "grid_gap": null,
            "grid_row": null,
            "grid_template_areas": null,
            "grid_template_columns": null,
            "grid_template_rows": null,
            "height": null,
            "justify_content": null,
            "justify_items": null,
            "left": null,
            "margin": null,
            "max_height": null,
            "max_width": null,
            "min_height": null,
            "min_width": null,
            "object_fit": null,
            "object_position": null,
            "order": null,
            "overflow": null,
            "overflow_x": null,
            "overflow_y": null,
            "padding": null,
            "right": null,
            "top": null,
            "visibility": null,
            "width": null
          }
        },
        "59e217313f5e460580bf2e20fbe3f748": {
          "model_module": "@jupyter-widgets/controls",
          "model_name": "ProgressStyleModel",
          "model_module_version": "1.5.0",
          "state": {
            "_model_module": "@jupyter-widgets/controls",
            "_model_module_version": "1.5.0",
            "_model_name": "ProgressStyleModel",
            "_view_count": null,
            "_view_module": "@jupyter-widgets/base",
            "_view_module_version": "1.2.0",
            "_view_name": "StyleView",
            "bar_color": null,
            "description_width": ""
          }
        },
        "738c6a8b1d2944589409eba6849d6fdc": {
          "model_module": "@jupyter-widgets/base",
          "model_name": "LayoutModel",
          "model_module_version": "1.2.0",
          "state": {
            "_model_module": "@jupyter-widgets/base",
            "_model_module_version": "1.2.0",
            "_model_name": "LayoutModel",
            "_view_count": null,
            "_view_module": "@jupyter-widgets/base",
            "_view_module_version": "1.2.0",
            "_view_name": "LayoutView",
            "align_content": null,
            "align_items": null,
            "align_self": null,
            "border": null,
            "bottom": null,
            "display": null,
            "flex": null,
            "flex_flow": null,
            "grid_area": null,
            "grid_auto_columns": null,
            "grid_auto_flow": null,
            "grid_auto_rows": null,
            "grid_column": null,
            "grid_gap": null,
            "grid_row": null,
            "grid_template_areas": null,
            "grid_template_columns": null,
            "grid_template_rows": null,
            "height": null,
            "justify_content": null,
            "justify_items": null,
            "left": null,
            "margin": null,
            "max_height": null,
            "max_width": null,
            "min_height": null,
            "min_width": null,
            "object_fit": null,
            "object_position": null,
            "order": null,
            "overflow": null,
            "overflow_x": null,
            "overflow_y": null,
            "padding": null,
            "right": null,
            "top": null,
            "visibility": null,
            "width": null
          }
        },
        "d47257bf31c34f6694529befab4374c2": {
          "model_module": "@jupyter-widgets/controls",
          "model_name": "DescriptionStyleModel",
          "model_module_version": "1.5.0",
          "state": {
            "_model_module": "@jupyter-widgets/controls",
            "_model_module_version": "1.5.0",
            "_model_name": "DescriptionStyleModel",
            "_view_count": null,
            "_view_module": "@jupyter-widgets/base",
            "_view_module_version": "1.2.0",
            "_view_name": "StyleView",
            "description_width": ""
          }
        },
        "4287fcd5007b4614b798ce29525a8480": {
          "model_module": "@jupyter-widgets/controls",
          "model_name": "HBoxModel",
          "model_module_version": "1.5.0",
          "state": {
            "_dom_classes": [],
            "_model_module": "@jupyter-widgets/controls",
            "_model_module_version": "1.5.0",
            "_model_name": "HBoxModel",
            "_view_count": null,
            "_view_module": "@jupyter-widgets/controls",
            "_view_module_version": "1.5.0",
            "_view_name": "HBoxView",
            "box_style": "",
            "children": [
              "IPY_MODEL_fce2030655344253b4f50e7a64e9c941",
              "IPY_MODEL_6fb9956b95154501a386012054e87b62",
              "IPY_MODEL_8ecf7b403f2c4c03a3432df504173834"
            ],
            "layout": "IPY_MODEL_ef9edcf179a340c196c2eaa99694c784"
          }
        },
        "fce2030655344253b4f50e7a64e9c941": {
          "model_module": "@jupyter-widgets/controls",
          "model_name": "HTMLModel",
          "model_module_version": "1.5.0",
          "state": {
            "_dom_classes": [],
            "_model_module": "@jupyter-widgets/controls",
            "_model_module_version": "1.5.0",
            "_model_name": "HTMLModel",
            "_view_count": null,
            "_view_module": "@jupyter-widgets/controls",
            "_view_module_version": "1.5.0",
            "_view_name": "HTMLView",
            "description": "",
            "description_tooltip": null,
            "layout": "IPY_MODEL_d0b80479ff4346189a2fb3f223547231",
            "placeholder": "​",
            "style": "IPY_MODEL_93a9a0171e824ab8af2426d819aeef78",
            "value": "Map: 100%"
          }
        },
        "6fb9956b95154501a386012054e87b62": {
          "model_module": "@jupyter-widgets/controls",
          "model_name": "FloatProgressModel",
          "model_module_version": "1.5.0",
          "state": {
            "_dom_classes": [],
            "_model_module": "@jupyter-widgets/controls",
            "_model_module_version": "1.5.0",
            "_model_name": "FloatProgressModel",
            "_view_count": null,
            "_view_module": "@jupyter-widgets/controls",
            "_view_module_version": "1.5.0",
            "_view_name": "ProgressView",
            "bar_style": "success",
            "description": "",
            "description_tooltip": null,
            "layout": "IPY_MODEL_257c11ae832c487eb4c2745c61d78db6",
            "max": 4475,
            "min": 0,
            "orientation": "horizontal",
            "style": "IPY_MODEL_117b1ec1213e423096493884e317638a",
            "value": 4475
          }
        },
        "8ecf7b403f2c4c03a3432df504173834": {
          "model_module": "@jupyter-widgets/controls",
          "model_name": "HTMLModel",
          "model_module_version": "1.5.0",
          "state": {
            "_dom_classes": [],
            "_model_module": "@jupyter-widgets/controls",
            "_model_module_version": "1.5.0",
            "_model_name": "HTMLModel",
            "_view_count": null,
            "_view_module": "@jupyter-widgets/controls",
            "_view_module_version": "1.5.0",
            "_view_name": "HTMLView",
            "description": "",
            "description_tooltip": null,
            "layout": "IPY_MODEL_883238ab203048c78270b437b7842f1e",
            "placeholder": "​",
            "style": "IPY_MODEL_6d7ee3cade3345aa9c39958d4bdb6555",
            "value": " 4475/4475 [00:01&lt;00:00, 2242.07 examples/s]"
          }
        },
        "ef9edcf179a340c196c2eaa99694c784": {
          "model_module": "@jupyter-widgets/base",
          "model_name": "LayoutModel",
          "model_module_version": "1.2.0",
          "state": {
            "_model_module": "@jupyter-widgets/base",
            "_model_module_version": "1.2.0",
            "_model_name": "LayoutModel",
            "_view_count": null,
            "_view_module": "@jupyter-widgets/base",
            "_view_module_version": "1.2.0",
            "_view_name": "LayoutView",
            "align_content": null,
            "align_items": null,
            "align_self": null,
            "border": null,
            "bottom": null,
            "display": null,
            "flex": null,
            "flex_flow": null,
            "grid_area": null,
            "grid_auto_columns": null,
            "grid_auto_flow": null,
            "grid_auto_rows": null,
            "grid_column": null,
            "grid_gap": null,
            "grid_row": null,
            "grid_template_areas": null,
            "grid_template_columns": null,
            "grid_template_rows": null,
            "height": null,
            "justify_content": null,
            "justify_items": null,
            "left": null,
            "margin": null,
            "max_height": null,
            "max_width": null,
            "min_height": null,
            "min_width": null,
            "object_fit": null,
            "object_position": null,
            "order": null,
            "overflow": null,
            "overflow_x": null,
            "overflow_y": null,
            "padding": null,
            "right": null,
            "top": null,
            "visibility": null,
            "width": null
          }
        },
        "d0b80479ff4346189a2fb3f223547231": {
          "model_module": "@jupyter-widgets/base",
          "model_name": "LayoutModel",
          "model_module_version": "1.2.0",
          "state": {
            "_model_module": "@jupyter-widgets/base",
            "_model_module_version": "1.2.0",
            "_model_name": "LayoutModel",
            "_view_count": null,
            "_view_module": "@jupyter-widgets/base",
            "_view_module_version": "1.2.0",
            "_view_name": "LayoutView",
            "align_content": null,
            "align_items": null,
            "align_self": null,
            "border": null,
            "bottom": null,
            "display": null,
            "flex": null,
            "flex_flow": null,
            "grid_area": null,
            "grid_auto_columns": null,
            "grid_auto_flow": null,
            "grid_auto_rows": null,
            "grid_column": null,
            "grid_gap": null,
            "grid_row": null,
            "grid_template_areas": null,
            "grid_template_columns": null,
            "grid_template_rows": null,
            "height": null,
            "justify_content": null,
            "justify_items": null,
            "left": null,
            "margin": null,
            "max_height": null,
            "max_width": null,
            "min_height": null,
            "min_width": null,
            "object_fit": null,
            "object_position": null,
            "order": null,
            "overflow": null,
            "overflow_x": null,
            "overflow_y": null,
            "padding": null,
            "right": null,
            "top": null,
            "visibility": null,
            "width": null
          }
        },
        "93a9a0171e824ab8af2426d819aeef78": {
          "model_module": "@jupyter-widgets/controls",
          "model_name": "DescriptionStyleModel",
          "model_module_version": "1.5.0",
          "state": {
            "_model_module": "@jupyter-widgets/controls",
            "_model_module_version": "1.5.0",
            "_model_name": "DescriptionStyleModel",
            "_view_count": null,
            "_view_module": "@jupyter-widgets/base",
            "_view_module_version": "1.2.0",
            "_view_name": "StyleView",
            "description_width": ""
          }
        },
        "257c11ae832c487eb4c2745c61d78db6": {
          "model_module": "@jupyter-widgets/base",
          "model_name": "LayoutModel",
          "model_module_version": "1.2.0",
          "state": {
            "_model_module": "@jupyter-widgets/base",
            "_model_module_version": "1.2.0",
            "_model_name": "LayoutModel",
            "_view_count": null,
            "_view_module": "@jupyter-widgets/base",
            "_view_module_version": "1.2.0",
            "_view_name": "LayoutView",
            "align_content": null,
            "align_items": null,
            "align_self": null,
            "border": null,
            "bottom": null,
            "display": null,
            "flex": null,
            "flex_flow": null,
            "grid_area": null,
            "grid_auto_columns": null,
            "grid_auto_flow": null,
            "grid_auto_rows": null,
            "grid_column": null,
            "grid_gap": null,
            "grid_row": null,
            "grid_template_areas": null,
            "grid_template_columns": null,
            "grid_template_rows": null,
            "height": null,
            "justify_content": null,
            "justify_items": null,
            "left": null,
            "margin": null,
            "max_height": null,
            "max_width": null,
            "min_height": null,
            "min_width": null,
            "object_fit": null,
            "object_position": null,
            "order": null,
            "overflow": null,
            "overflow_x": null,
            "overflow_y": null,
            "padding": null,
            "right": null,
            "top": null,
            "visibility": null,
            "width": null
          }
        },
        "117b1ec1213e423096493884e317638a": {
          "model_module": "@jupyter-widgets/controls",
          "model_name": "ProgressStyleModel",
          "model_module_version": "1.5.0",
          "state": {
            "_model_module": "@jupyter-widgets/controls",
            "_model_module_version": "1.5.0",
            "_model_name": "ProgressStyleModel",
            "_view_count": null,
            "_view_module": "@jupyter-widgets/base",
            "_view_module_version": "1.2.0",
            "_view_name": "StyleView",
            "bar_color": null,
            "description_width": ""
          }
        },
        "883238ab203048c78270b437b7842f1e": {
          "model_module": "@jupyter-widgets/base",
          "model_name": "LayoutModel",
          "model_module_version": "1.2.0",
          "state": {
            "_model_module": "@jupyter-widgets/base",
            "_model_module_version": "1.2.0",
            "_model_name": "LayoutModel",
            "_view_count": null,
            "_view_module": "@jupyter-widgets/base",
            "_view_module_version": "1.2.0",
            "_view_name": "LayoutView",
            "align_content": null,
            "align_items": null,
            "align_self": null,
            "border": null,
            "bottom": null,
            "display": null,
            "flex": null,
            "flex_flow": null,
            "grid_area": null,
            "grid_auto_columns": null,
            "grid_auto_flow": null,
            "grid_auto_rows": null,
            "grid_column": null,
            "grid_gap": null,
            "grid_row": null,
            "grid_template_areas": null,
            "grid_template_columns": null,
            "grid_template_rows": null,
            "height": null,
            "justify_content": null,
            "justify_items": null,
            "left": null,
            "margin": null,
            "max_height": null,
            "max_width": null,
            "min_height": null,
            "min_width": null,
            "object_fit": null,
            "object_position": null,
            "order": null,
            "overflow": null,
            "overflow_x": null,
            "overflow_y": null,
            "padding": null,
            "right": null,
            "top": null,
            "visibility": null,
            "width": null
          }
        },
        "6d7ee3cade3345aa9c39958d4bdb6555": {
          "model_module": "@jupyter-widgets/controls",
          "model_name": "DescriptionStyleModel",
          "model_module_version": "1.5.0",
          "state": {
            "_model_module": "@jupyter-widgets/controls",
            "_model_module_version": "1.5.0",
            "_model_name": "DescriptionStyleModel",
            "_view_count": null,
            "_view_module": "@jupyter-widgets/base",
            "_view_module_version": "1.2.0",
            "_view_name": "StyleView",
            "description_width": ""
          }
        }
      }
    }
  },
  "cells": [
    {
      "cell_type": "code",
      "execution_count": null,
      "metadata": {
        "id": "eY41rBOSeJr7"
      },
      "outputs": [],
      "source": [
        "!pip install torch datasets"
      ]
    },
    {
      "cell_type": "code",
      "source": [
        "!pip install accelerate -U"
      ],
      "metadata": {
        "id": "FtdAM5mLiF-o"
      },
      "execution_count": null,
      "outputs": []
    },
    {
      "cell_type": "code",
      "source": [
        "\n",
        "! pip install -U transformers"
      ],
      "metadata": {
        "id": "uRnAxsOaimhM"
      },
      "execution_count": null,
      "outputs": []
    },
    {
      "cell_type": "code",
      "source": [
        "import torch\n",
        "from datasets import load_dataset\n",
        "from transformers import GPT2Tokenizer, GPT2ForSequenceClassification, Trainer, TrainingArguments, GPT2Config\n",
        "from transformers import GPT2Tokenizer, GPT2ForSequenceClassification, Trainer, TrainingArguments, DataCollatorWithPadding, DataCollatorForLanguageModeling"
      ],
      "metadata": {
        "id": "appq3GwXeZJC"
      },
      "execution_count": 1,
      "outputs": []
    },
    {
      "cell_type": "code",
      "source": [
        "from sklearn.model_selection import train_test_split"
      ],
      "metadata": {
        "id": "ppdTYkZoq61y"
      },
      "execution_count": 2,
      "outputs": []
    },
    {
      "cell_type": "code",
      "source": [
        "# Load tokenizer and model\n",
        "configuration = GPT2Config()\n",
        "tokenizer = GPT2Tokenizer.from_pretrained(\"gpt2-medium\")\n",
        "tokenizer.pad_token = tokenizer.eos_token\n",
        "model = GPT2ForSequenceClassification.from_pretrained(\"gpt2-medium\", num_labels=5)\n",
        "model.config.pad_token_id = model.config.eos_token_id"
      ],
      "metadata": {
        "colab": {
          "base_uri": "https://localhost:8080/"
        },
        "id": "2mqB6SYCm9XH",
        "outputId": "79d10f2b-01cf-4f16-cf5b-744ad049fa24"
      },
      "execution_count": 3,
      "outputs": [
        {
          "output_type": "stream",
          "name": "stderr",
          "text": [
            "Some weights of GPT2ForSequenceClassification were not initialized from the model checkpoint at gpt2-medium and are newly initialized: ['score.weight']\n",
            "You should probably TRAIN this model on a down-stream task to be able to use it for predictions and inference.\n"
          ]
        }
      ]
    },
    {
      "cell_type": "code",
      "source": [
        "# # Load dataset\n",
        "# dataset = load_dataset(\"math_qa\", split=\"validation\")  # use train split when finetuning"
      ],
      "metadata": {
        "id": "y9K98fasege_"
      },
      "execution_count": 27,
      "outputs": []
    },
    {
      "cell_type": "code",
      "source": [
        "# Load the dataset and split it into training and validation sets\n",
        "full_dataset = load_dataset(\"math_qa\", split=\"validation\") # change the split later\n",
        "train_size = 0.9\n",
        "train_dataset, eval_dataset = full_dataset.train_test_split(train_size=train_size).values()"
      ],
      "metadata": {
        "id": "NXthdDrarCR2"
      },
      "execution_count": 4,
      "outputs": []
    },
    {
      "cell_type": "code",
      "source": [
        "# Tokenize and preprocess the dataset\n",
        "def preprocess_data(examples):\n",
        "    # inputs = [problem + \" Options: \" + options for problem, options in zip(examples['Problem'], examples['options'])]\n",
        "    inputs = [problem + \" Formula: \" + formula + \" Options: \" + options\n",
        "              for problem, formula, options in zip(examples['Problem'], examples['annotated_formula'], examples['options'])]\n",
        "    labels = [ord(correct_option.lower()) - ord('a') for correct_option in examples['correct']]  # 'a' -> 0, 'b' -> 1, etc.\n",
        "    return {'input_ids': tokenizer(inputs, truncation=True)['input_ids'], 'labels': labels}\n",
        "\n",
        "# tokenized_dataset = dataset.map(preprocess_data, batched=True)\n",
        "tokenized_train_dataset = train_dataset.map(preprocess_data, batched=True)\n",
        "tokenized_eval_dataset = eval_dataset.map(preprocess_data, batched=True)\n",
        "# Data collator\n",
        "data_collator = DataCollatorWithPadding(tokenizer=tokenizer)"
      ],
      "metadata": {
        "colab": {
          "base_uri": "https://localhost:8080/",
          "height": 81,
          "referenced_widgets": [
            "c39d96ebb12e4dbab133b900f121f21d",
            "2a66df47310743c7ae9a98feae9aef36",
            "218ee06d5777445197f53847b17e56d0",
            "bf6b1d781a0b49b5a52d8ad8fab927b2",
            "3e91f1e1f25449e7a07c926bdb5bea32",
            "8d478527c8604bb0bb3ca2b25fd4dd19",
            "7eacf17c58a94d199e8f2f93a85c6d74",
            "03ce24ab691d4e3f9e60caa15e8db418",
            "7d9e03ad2fdc4b8193748aa41a84db68",
            "9facf3a70e244987b90a5f949294167e",
            "562aa5047d264c1a913636570271fc2f",
            "2961581d700043f5bd1e79309dbbf1f2",
            "ba822e72ebb9443b826014c820ee7ccd",
            "b74f8eda582b4d4ebbd76ed28fbabeda",
            "9ce1a2fd42a84790bde14972a9326c0f",
            "54350e4f67aa4141b138ff41ef3140d0",
            "19c24ddc8c0a4316a8cbf6ad427ae918",
            "eafe3dd557ef4fcda99a4ddf3f0a17fc",
            "b1ce8b2e11eb44c2a7581674ac13f0e4",
            "59e217313f5e460580bf2e20fbe3f748",
            "738c6a8b1d2944589409eba6849d6fdc",
            "d47257bf31c34f6694529befab4374c2"
          ]
        },
        "id": "Pjvhf840eiU3",
        "outputId": "c5ef090b-ab64-4cf3-aaf0-fb03f8387e98"
      },
      "execution_count": 5,
      "outputs": [
        {
          "output_type": "display_data",
          "data": {
            "text/plain": [
              "Map:   0%|          | 0/4027 [00:00<?, ? examples/s]"
            ],
            "application/vnd.jupyter.widget-view+json": {
              "version_major": 2,
              "version_minor": 0,
              "model_id": "c39d96ebb12e4dbab133b900f121f21d"
            }
          },
          "metadata": {}
        },
        {
          "output_type": "display_data",
          "data": {
            "text/plain": [
              "Map:   0%|          | 0/448 [00:00<?, ? examples/s]"
            ],
            "application/vnd.jupyter.widget-view+json": {
              "version_major": 2,
              "version_minor": 0,
              "model_id": "2961581d700043f5bd1e79309dbbf1f2"
            }
          },
          "metadata": {}
        }
      ]
    },
    {
      "cell_type": "code",
      "source": [
        "# # Tokenize and preprocess the dataset\n",
        "# def preprocess_data(examples):\n",
        "#     inputs = [problem + \" Options: \" + options for problem, options in zip(examples['Problem'], examples['options'])]\n",
        "#     labels = [ord(correct_option.lower()) - ord('a') for correct_option in examples['correct']]\n",
        "#     return {'input_ids': tokenizer(inputs, truncation=True)['input_ids'], 'labels': labels}\n",
        "# tokenized_dataset = dataset.map(preprocess_data, batched=True)\n",
        "# # Data collator\n",
        "# data_collator = DataCollatorForLanguageModeling(\n",
        "#     tokenizer=tokenizer,\n",
        "#     mlm=False  # Masked Language Model not used in sequence classification\n",
        "# )"
      ],
      "metadata": {
        "colab": {
          "base_uri": "https://localhost:8080/",
          "height": 49,
          "referenced_widgets": [
            "4287fcd5007b4614b798ce29525a8480",
            "fce2030655344253b4f50e7a64e9c941",
            "6fb9956b95154501a386012054e87b62",
            "8ecf7b403f2c4c03a3432df504173834",
            "ef9edcf179a340c196c2eaa99694c784",
            "d0b80479ff4346189a2fb3f223547231",
            "93a9a0171e824ab8af2426d819aeef78",
            "257c11ae832c487eb4c2745c61d78db6",
            "117b1ec1213e423096493884e317638a",
            "883238ab203048c78270b437b7842f1e",
            "6d7ee3cade3345aa9c39958d4bdb6555"
          ]
        },
        "id": "_tYLTAzOlmTZ",
        "outputId": "b3d56d28-b6a8-4ef5-9238-788cce265d20"
      },
      "execution_count": 73,
      "outputs": [
        {
          "output_type": "display_data",
          "data": {
            "text/plain": [
              "Map:   0%|          | 0/4475 [00:00<?, ? examples/s]"
            ],
            "application/vnd.jupyter.widget-view+json": {
              "version_major": 2,
              "version_minor": 0,
              "model_id": "4287fcd5007b4614b798ce29525a8480"
            }
          },
          "metadata": {}
        }
      ]
    },
    {
      "cell_type": "code",
      "source": [
        "# Training arguments\n",
        "training_args = TrainingArguments(\n",
        "    output_dir=\"./results\",           # Output directory for model checkpoints\n",
        "    num_train_epochs=3,               # Number of training epochs\n",
        "    per_device_train_batch_size=2,   # Batch size for training\n",
        "    per_device_eval_batch_size=2,    # Batch size for evaluation\n",
        "    warmup_steps=500,                 # Number of warmup steps for learning rate scheduler\n",
        "    weight_decay=0.01,                # Weight decay rate\n",
        "    logging_dir='./logs',             # Directory for storing logs\n",
        "    evaluation_strategy=\"epoch\",       # Evaluate each epoch\n",
        "    learning_rate=5e-5,               # Learning rate\n",
        ")\n",
        "\n",
        "# Initialize Trainer\n",
        "trainer = Trainer(\n",
        "    model=model,\n",
        "    args=training_args,\n",
        "    train_dataset=tokenized_train_dataset,\n",
        "    eval_dataset=tokenized_eval_dataset,\n",
        "    data_collator=data_collator,\n",
        ")"
      ],
      "metadata": {
        "id": "u6FemGn4em6b"
      },
      "execution_count": 21,
      "outputs": []
    },
    {
      "cell_type": "code",
      "source": [
        "# check tokenized dataset\n",
        "for i in range(5):\n",
        "    sample = tokenized_train_dataset[i]\n",
        "    print(f\"Sample {i}:\")\n",
        "    print(\"Tokenized Input IDs:\", sample['input_ids'])\n",
        "    print(\"Length of Tokenized Input:\", len(sample['input_ids']))\n",
        "    print(\"Label:\", sample['labels'])\n",
        "    print(\"\\n\")\n",
        "for i in range(5):\n",
        "    sample = tokenized_eval_dataset[i]\n",
        "    print(f\"Sample {i}:\")\n",
        "    print(\"Tokenized Input IDs:\", sample['input_ids'])\n",
        "    print(\"Length of Tokenized Input:\", len(sample['input_ids']))\n",
        "    print(\"Label:\", sample['labels'])\n",
        "    print(\"\\n\")"
      ],
      "metadata": {
        "colab": {
          "base_uri": "https://localhost:8080/"
        },
        "id": "IAZXqeHHj9SE",
        "outputId": "8b6fb381-c8b8-48c2-cf1d-79599cb815be"
      },
      "execution_count": 7,
      "outputs": [
        {
          "output_type": "stream",
          "name": "stdout",
          "text": [
            "Sample 0:\n",
            "Tokenized Input IDs: [1169, 1720, 286, 734, 25175, 3146, 318, 8699, 2624, 764, 543, 318, 262, 4833, 286, 262, 734, 3146, 5633, 19639, 25, 19862, 17034, 7, 3695, 2624, 8, 18634, 25, 257, 1267, 8699, 837, 275, 1267, 8257, 837, 269, 1267, 9193, 837, 288, 1267, 10111, 837, 304, 1267, 5214]\n",
            "Length of Tokenized Input: 48\n",
            "Label: 2\n",
            "\n",
            "\n",
            "Sample 1:\n",
            "Tokenized Input IDs: [64, 1728, 14153, 38298, 5732, 422, 2026, 1528, 284, 3126, 1528, 262, 640, 1022, 2672, 9262, 8794, 319, 281, 7593, 4038, 764, 416, 644, 1411, 318, 262, 640, 1022, 9262, 8794, 3220, 416, 1262, 262, 38298, 5633, 19639, 25, 29162, 7, 7146, 485, 7, 7266, 83, 974, 7, 1899, 11, 2026, 828, 2026, 828, 1500, 62, 3064, 8, 18634, 25, 257, 1267, 1679, 4064, 837, 275, 1267, 4747, 352, 1220, 513, 4064, 837, 269, 1267, 2026, 4064, 837, 288, 1267, 7930, 362, 1220, 513, 4064, 837, 304, 1267, 1160, 4064]\n",
            "Length of Tokenized Input: 90\n",
            "Label: 4\n",
            "\n",
            "\n",
            "Sample 2:\n",
            "Tokenized Input IDs: [10919, 318, 262, 1551, 1271, 286, 24438, 19867, 2672, 284, 23000, 262, 4314, 286, 257, 2119, 1315, 13, 1558, 285, 890, 290, 860, 13, 2999, 285, 3154, 5633, 19639, 25, 14083, 7, 2554, 9248, 62, 20337, 7, 16680, 541, 306, 7, 1314, 13, 1558, 11, 1500, 62, 3064, 828, 29162, 7, 24, 13, 2999, 11, 1500, 62, 3064, 36911, 6616, 62, 20337, 7, 2860, 7, 16680, 541, 306, 7, 9979, 62, 19, 11, 1500, 62, 940, 828, 1500, 62, 16, 22305, 18634, 25, 37250, 64, 1267, 807, 1415, 3256, 705, 65, 1267, 37737, 3256, 705, 66, 1267, 38721, 3256, 705, 67, 1267, 36006, 3256, 705, 68, 1267, 718, 5333, 20520]\n",
            "Length of Tokenized Input: 110\n",
            "Label: 0\n",
            "\n",
            "\n",
            "Sample 3:\n",
            "Tokenized Input IDs: [4108, 72, 290, 479, 15820, 923, 257, 1597, 416, 14771, 6184, 95, 564, 248, 1587, 117, 4751, 290, 6184, 95, 564, 248, 1587, 117, 7724, 830, 837, 8148, 764, 1064, 262, 8064, 286, 511, 10177, 379, 262, 886, 286, 614, 764, 19639, 25, 14083, 7, 11024, 11, 7724, 830, 8, 18634, 25, 257, 1267, 362, 1058, 4570, 837, 275, 1267, 642, 1058, 4570, 837, 269, 1267, 767, 1058, 4570, 837, 288, 1267, 352, 1058, 4570, 837, 304, 1267, 513, 1058, 4570]\n",
            "Length of Tokenized Input: 81\n",
            "Label: 3\n",
            "\n",
            "\n",
            "Sample 4:\n",
            "Tokenized Input IDs: [283, 29741, 2067, 257, 1597, 351, 44608, 764, 838, 11, 830, 290, 318, 5399, 12979, 416, 281, 11224, 351, 44608, 764, 2319, 837, 12877, 764, 706, 703, 867, 1933, 750, 281, 11224, 4654, 611, 262, 10177, 379, 262, 886, 286, 262, 614, 389, 9086, 8603, 5633, 19639, 25, 14083, 7, 7266, 83, 974, 7, 16680, 541, 306, 7, 16680, 541, 306, 7, 16680, 541, 306, 7, 9979, 62, 19, 11, 1500, 62, 3064, 828, 1500, 62, 3064, 828, 1500, 62, 1065, 828, 29162, 7, 16680, 541, 306, 7, 16680, 541, 306, 7, 9979, 62, 17, 11, 1500, 62, 3064, 828, 1500, 62, 3064, 828, 1500, 62, 1065, 36911, 29162, 7, 16680, 541, 306, 7, 1821, 11, 1500, 62, 3064, 828, 1500, 62, 940, 4008, 18634, 25, 257, 1267, 513, 837, 275, 1267, 604, 837, 269, 1267, 642, 837, 288, 1267, 718, 837, 304, 1267, 860]\n",
            "Length of Tokenized Input: 145\n",
            "Label: 4\n",
            "\n",
            "\n",
            "Sample 0:\n",
            "Tokenized Input IDs: [1169, 4600, 4600, 11717, 5536, 705, 705, 2753, 7982, 4201, 284, 9197, 262, 11717, 2610, 1752, 764, 262, 4600, 4600, 11642, 6473, 705, 705, 1838, 2319, 9196, 286, 262, 2610, 287, 281, 1711, 764, 611, 484, 1364, 262, 3599, 966, 1978, 837, 703, 867, 2431, 481, 340, 1011, 329, 606, 284, 1826, 379, 262, 3599, 966, 329, 262, 1218, 640, 5633, 19639, 25, 751, 7, 2860, 7, 9979, 62, 17, 11, 1500, 62, 19, 828, 751, 7, 9979, 62, 17, 11, 1500, 62, 19, 4008, 18634, 25, 257, 1267, 513, 837, 275, 1267, 718, 837, 269, 1267, 860, 837, 288, 1267, 1105, 837, 304, 1267, 1315]\n",
            "Length of Tokenized Input: 106\n",
            "Label: 3\n",
            "\n",
            "\n",
            "Sample 1:\n",
            "Tokenized Input IDs: [1169, 42781, 3463, 286, 257, 837, 275, 1222, 269, 318, 9508, 14211, 764, 611, 288, 15449, 262, 1448, 837, 262, 42781, 3463, 286, 262, 1448, 4329, 4019, 14211, 764, 611, 1194, 582, 304, 508, 19590, 318, 807, 14211, 517, 621, 288, 24020, 257, 837, 788, 262, 42781, 1659, 275, 837, 269, 837, 288, 1222, 304, 4329, 9225, 14211, 764, 644, 318, 262, 3463, 286, 257, 5633, 19639, 25, 34128, 7, 16680, 541, 306, 7, 1795, 11, 1500, 62, 19, 828, 34128, 7, 16680, 541, 306, 7, 3720, 11, 1500, 62, 19, 828, 751, 7, 9979, 62, 18, 13, 15, 11, 34128, 7, 16680, 541, 306, 7, 1795, 11, 1500, 62, 19, 828, 29162, 7, 5705, 11, 807, 4008, 22305, 18634, 25, 257, 1267, 1679, 837, 275, 1267, 3439, 837, 269, 1267, 5441, 837, 288, 1267, 4019, 837, 304, 1267, 4101]\n",
            "Length of Tokenized Input: 140\n",
            "Label: 3\n",
            "\n",
            "\n",
            "Sample 2:\n",
            "Tokenized Input IDs: [1640, 597, 18253, 299, 3744, 621, 352, 837, 299, 1635, 43397, 262, 1720, 286, 477, 262, 37014, 422, 352, 284, 299, 837, 19889, 764, 703, 867, 6994, 3146, 389, 612, 1022, 718, 1635, 1343, 362, 290, 718, 1635, 1343, 718, 837, 19889, 5633, 19639, 25, 14083, 7, 2860, 7, 22584, 5132, 7, 21, 828, 718, 828, 751, 7, 22584, 5132, 7, 21, 828, 718, 4008, 18634, 25, 257, 1267, 4844, 837, 275, 1267, 530, 837, 269, 1267, 734, 837, 288, 1267, 1115, 837, 304, 1267, 1440]\n",
            "Length of Tokenized Input: 86\n",
            "Label: 0\n",
            "\n",
            "\n",
            "Sample 3:\n",
            "Tokenized Input IDs: [361, 257, 532, 275, 796, 513, 290, 257, 357, 1176, 362, 1267, 1343, 275, 357, 1176, 362, 1267, 796, 2808, 837, 1064, 262, 1988, 286, 450, 764, 19639, 25, 14083, 7, 7266, 83, 974, 7, 1959, 11, 1176, 7, 18, 11, 362, 36911, 362, 8, 18634, 25, 257, 1267, 642, 837, 275, 1267, 807, 837, 269, 1267, 604, 837, 288, 1267, 838, 837, 304, 1267, 513]\n",
            "Length of Tokenized Input: 66\n",
            "Label: 3\n",
            "\n",
            "\n",
            "Sample 4:\n",
            "Tokenized Input IDs: [64, 1048, 9387, 838, 4064, 286, 465, 3739, 284, 465, 362, 1751, 1123, 764, 339, 27163, 1160, 4064, 286, 465, 3739, 284, 465, 3656, 705, 264, 1848, 764, 339, 15863, 838, 4064, 286, 5637, 2033, 284, 281, 26051, 2156, 764, 3443, 339, 468, 720, 5323, 764, 1064, 465, 2472, 3739, 5633, 19639, 25, 29162, 7, 7146, 485, 7, 4059, 11, 34128, 7, 9979, 62, 3064, 11, 751, 7, 2860, 7, 16680, 541, 306, 7, 940, 11, 362, 828, 1160, 828, 838, 4008, 828, 1500, 62, 3064, 8, 18634, 25, 257, 1267, 720, 15897, 837, 275, 1267, 720, 8576, 837, 269, 1267, 720, 24938, 837, 288, 1267, 720, 1367, 1120, 837, 304, 1267, 720, 20007]\n",
            "Length of Tokenized Input: 114\n",
            "Label: 1\n",
            "\n",
            "\n"
          ]
        }
      ]
    },
    {
      "cell_type": "code",
      "source": [
        "torch.cuda.empty_cache()"
      ],
      "metadata": {
        "id": "aci_KnEwo3jJ"
      },
      "execution_count": 22,
      "outputs": []
    },
    {
      "cell_type": "code",
      "source": [
        "# Train the model\n",
        "trainer.train()"
      ],
      "metadata": {
        "colab": {
          "base_uri": "https://localhost:8080/",
          "height": 204
        },
        "id": "KG0DWWaCez58",
        "outputId": "802e7105-c030-4f66-bff5-dc2ee8dd2045"
      },
      "execution_count": 24,
      "outputs": [
        {
          "output_type": "display_data",
          "data": {
            "text/plain": [
              "<IPython.core.display.HTML object>"
            ],
            "text/html": [
              "\n",
              "    <div>\n",
              "      \n",
              "      <progress value='6042' max='6042' style='width:300px; height:20px; vertical-align: middle;'></progress>\n",
              "      [6042/6042 39:42, Epoch 3/3]\n",
              "    </div>\n",
              "    <table border=\"1\" class=\"dataframe\">\n",
              "  <thead>\n",
              " <tr style=\"text-align: left;\">\n",
              "      <th>Epoch</th>\n",
              "      <th>Training Loss</th>\n",
              "      <th>Validation Loss</th>\n",
              "    </tr>\n",
              "  </thead>\n",
              "  <tbody>\n",
              "    <tr>\n",
              "      <td>1</td>\n",
              "      <td>1.618400</td>\n",
              "      <td>1.608475</td>\n",
              "    </tr>\n",
              "    <tr>\n",
              "      <td>2</td>\n",
              "      <td>1.558000</td>\n",
              "      <td>1.622070</td>\n",
              "    </tr>\n",
              "    <tr>\n",
              "      <td>3</td>\n",
              "      <td>1.321600</td>\n",
              "      <td>1.886897</td>\n",
              "    </tr>\n",
              "  </tbody>\n",
              "</table><p>"
            ]
          },
          "metadata": {}
        },
        {
          "output_type": "execute_result",
          "data": {
            "text/plain": [
              "TrainOutput(global_step=6042, training_loss=1.5108282050720234, metrics={'train_runtime': 2382.8167, 'train_samples_per_second': 5.07, 'train_steps_per_second': 2.536, 'total_flos': 2520365865947136.0, 'train_loss': 1.5108282050720234, 'epoch': 3.0})"
            ]
          },
          "metadata": {},
          "execution_count": 24
        }
      ]
    },
    {
      "cell_type": "code",
      "source": [
        "# Save the model\n",
        "model.save_pretrained('./fine_tuned_gpt2')\n",
        "tokenizer.save_pretrained('./fine_tuned_gpt2')"
      ],
      "metadata": {
        "colab": {
          "base_uri": "https://localhost:8080/"
        },
        "id": "POTmPK_Ae3iV",
        "outputId": "3fef7fe3-4a76-4609-a534-544c108013ae"
      },
      "execution_count": 25,
      "outputs": [
        {
          "output_type": "execute_result",
          "data": {
            "text/plain": [
              "('./fine_tuned_gpt2/tokenizer_config.json',\n",
              " './fine_tuned_gpt2/special_tokens_map.json',\n",
              " './fine_tuned_gpt2/vocab.json',\n",
              " './fine_tuned_gpt2/merges.txt',\n",
              " './fine_tuned_gpt2/added_tokens.json')"
            ]
          },
          "metadata": {},
          "execution_count": 25
        }
      ]
    },
    {
      "cell_type": "code",
      "source": [
        "# Run the baseline with fine-tuned model\n",
        "\n",
        "# Load the dataset\n",
        "dataset_baseline = load_dataset(\"math_qa\", split=\"train\")\n",
        "\n",
        "# Load the fine-tuned tokenizer and model\n",
        "tokenizer = GPT2Tokenizer.from_pretrained('./fine_tuned_gpt2')\n",
        "model = GPT2ForSequenceClassification.from_pretrained('./fine_tuned_gpt2', num_labels=5)\n",
        "model.eval()\n",
        "tokenizer.pad_token = tokenizer.eos_token\n",
        "\n",
        "# Prediction function\n",
        "def predict(text):\n",
        "    inputs = tokenizer(text, return_tensors='pt', truncation=True, padding=True, max_length=512)\n",
        "    with torch.no_grad():\n",
        "        outputs = model(**inputs)\n",
        "    logits = outputs.logits\n",
        "    return torch.argmax(logits, dim=1)\n",
        "\n",
        "answer_mapping = {0: \"a\", 1: \"b\", 2: \"c\", 3: \"d\", 4: \"e\"}\n",
        "\n",
        "# Evaluate predictions\n",
        "correct = 0\n",
        "num_example = 100\n",
        "for i in range(num_example):\n",
        "    prompt = dataset_baseline[i][\"Problem\"] + \" \" + dataset_baseline[i][\"options\"]\n",
        "    prediction_index = predict(prompt).item()\n",
        "    prediction_label = answer_mapping[prediction_index]\n",
        "    print(prediction_label)\n",
        "    correct_answer = dataset_baseline[i]['correct']\n",
        "    if prediction_label == correct_answer:\n",
        "        correct += 1\n",
        "\n",
        "accuracy = correct / num_example\n",
        "print(f\"Accuracy: {accuracy:.2f}\")\n"
      ],
      "metadata": {
        "colab": {
          "base_uri": "https://localhost:8080/"
        },
        "id": "kEFqquslqIJu",
        "outputId": "6ba27964-fa75-441f-ced2-9a4ad8aea6b2"
      },
      "execution_count": 28,
      "outputs": [
        {
          "output_type": "stream",
          "name": "stdout",
          "text": [
            "b\n",
            "b\n",
            "c\n",
            "e\n",
            "d\n",
            "a\n",
            "b\n",
            "b\n",
            "e\n",
            "b\n",
            "a\n",
            "b\n",
            "b\n",
            "b\n",
            "b\n",
            "a\n",
            "a\n",
            "e\n",
            "b\n",
            "c\n",
            "a\n",
            "a\n",
            "b\n",
            "c\n",
            "b\n",
            "c\n",
            "c\n",
            "b\n",
            "b\n",
            "a\n",
            "e\n",
            "e\n",
            "c\n",
            "b\n",
            "e\n",
            "e\n",
            "e\n",
            "d\n",
            "c\n",
            "b\n",
            "e\n",
            "a\n",
            "b\n",
            "b\n",
            "b\n",
            "b\n",
            "e\n",
            "c\n",
            "b\n",
            "c\n",
            "c\n",
            "b\n",
            "b\n",
            "d\n",
            "e\n",
            "a\n",
            "b\n",
            "a\n",
            "c\n",
            "c\n",
            "b\n",
            "a\n",
            "c\n",
            "b\n",
            "e\n",
            "a\n",
            "b\n",
            "b\n",
            "c\n",
            "a\n",
            "c\n",
            "a\n",
            "e\n",
            "a\n",
            "a\n",
            "d\n",
            "c\n",
            "d\n",
            "a\n",
            "a\n",
            "c\n",
            "b\n",
            "c\n",
            "c\n",
            "c\n",
            "e\n",
            "b\n",
            "d\n",
            "d\n",
            "b\n",
            "d\n",
            "c\n",
            "a\n",
            "a\n",
            "a\n",
            "c\n",
            "c\n",
            "d\n",
            "b\n",
            "c\n",
            "Accuracy: 0.24\n"
          ]
        }
      ]
    }
  ]
}