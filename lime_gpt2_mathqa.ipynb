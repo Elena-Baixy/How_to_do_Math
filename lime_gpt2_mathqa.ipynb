{
 "cells": [
  {
   "cell_type": "code",
   "execution_count": 1,
   "metadata": {},
   "outputs": [
    {
     "name": "stderr",
     "output_type": "stream",
     "text": [
      "/home/xinyu/.local/lib/python3.10/site-packages/tqdm/auto.py:21: TqdmWarning: IProgress not found. Please update jupyter and ipywidgets. See https://ipywidgets.readthedocs.io/en/stable/user_install.html\n",
      "  from .autonotebook import tqdm as notebook_tqdm\n"
     ]
    },
    {
     "data": {
      "text/plain": [
       "GPT2ForSequenceClassification(\n",
       "  (transformer): GPT2Model(\n",
       "    (wte): Embedding(50257, 1024)\n",
       "    (wpe): Embedding(1024, 1024)\n",
       "    (drop): Dropout(p=0.1, inplace=False)\n",
       "    (h): ModuleList(\n",
       "      (0-23): 24 x GPT2Block(\n",
       "        (ln_1): LayerNorm((1024,), eps=1e-05, elementwise_affine=True)\n",
       "        (attn): GPT2Attention(\n",
       "          (c_attn): Conv1D()\n",
       "          (c_proj): Conv1D()\n",
       "          (attn_dropout): Dropout(p=0.1, inplace=False)\n",
       "          (resid_dropout): Dropout(p=0.1, inplace=False)\n",
       "        )\n",
       "        (ln_2): LayerNorm((1024,), eps=1e-05, elementwise_affine=True)\n",
       "        (mlp): GPT2MLP(\n",
       "          (c_fc): Conv1D()\n",
       "          (c_proj): Conv1D()\n",
       "          (act): NewGELUActivation()\n",
       "          (dropout): Dropout(p=0.1, inplace=False)\n",
       "        )\n",
       "      )\n",
       "    )\n",
       "    (ln_f): LayerNorm((1024,), eps=1e-05, elementwise_affine=True)\n",
       "  )\n",
       "  (score): Linear(in_features=1024, out_features=5, bias=False)\n",
       ")"
      ]
     },
     "execution_count": 1,
     "metadata": {},
     "output_type": "execute_result"
    }
   ],
   "source": [
    "import torch\n",
    "from transformers import GPT2Tokenizer, GPT2ForSequenceClassification, GPT2Config\n",
    "from sklearn.linear_model import LogisticRegression\n",
    "from lime.lime_text import LimeTextExplainer\n",
    "import numpy as np\n",
    "\n",
    "tokenizer = GPT2Tokenizer.from_pretrained('gpt2-medium')\n",
    "config = GPT2Config.from_pretrained('gpt2-medium', num_labels=5)\n",
    "model = GPT2ForSequenceClassification(config)\n",
    "model.eval()\n"
   ]
  },
  {
   "cell_type": "code",
   "execution_count": 2,
   "metadata": {},
   "outputs": [],
   "source": [
    "tokenizer.pad_token = tokenizer.eos_token\n",
    "def predict_proba(texts):\n",
    "    outputs = []\n",
    "    predicted_classes = []\n",
    "    for text in texts:\n",
    "        inputs = tokenizer.encode_plus(text, return_tensors='pt', truncation=True, padding='max_length', max_length=tokenizer.model_max_length)\n",
    "        with torch.no_grad():\n",
    "            logits = model(**inputs).logits\n",
    "        probabilities = torch.nn.functional.softmax(logits, dim=1).cpu().numpy()\n",
    "        outputs.append(probabilities.squeeze(0))\n",
    "        predicted_class = np.argmax(probabilities, axis=1)\n",
    "        predicted_classes.append(predicted_class[0])\n",
    "    return np.array(outputs),predicted_classes"
   ]
  },
  {
   "cell_type": "code",
   "execution_count": 3,
   "metadata": {},
   "outputs": [],
   "source": [
    "from datasets import load_dataset\n",
    "dataset = load_dataset(\"math_qa\", split = \"validation\")"
   ]
  },
  {
   "cell_type": "code",
   "execution_count": 4,
   "metadata": {},
   "outputs": [],
   "source": [
    "tokenizer.pad_token = tokenizer.eos_token"
   ]
  },
  {
   "cell_type": "code",
   "execution_count": 5,
   "metadata": {},
   "outputs": [],
   "source": [
    "explainer = LimeTextExplainer(class_names=[\"a\", \"b\", \"c\", \"d\", \"e\"])"
   ]
  },
  {
   "cell_type": "code",
   "execution_count": 7,
   "metadata": {},
   "outputs": [
    {
     "name": "stdout",
     "output_type": "stream",
     "text": [
      "a multiple choice test consists of 4 questions , and each question has 5 answer choices . in how many r ways can the test be completed if every question is unanswered ? a ) 24 , b ) 120 , c ) 625 , d ) 720 , e ) 1024\n"
     ]
    }
   ],
   "source": [
    "text_to_explain = dataset[0][\"Problem\"] + \" \" + dataset[0][\"options\"]\n",
    "print(text_to_explain)"
   ]
  },
  {
   "cell_type": "code",
   "execution_count": 13,
   "metadata": {},
   "outputs": [
    {
     "name": "stdout",
     "output_type": "stream",
     "text": [
      "2\n",
      "3\n",
      "4\n"
     ]
    }
   ],
   "source": [
    "for i in range(2,5):\n",
    "    print(i)"
   ]
  },
  {
   "cell_type": "code",
   "execution_count": null,
   "metadata": {},
   "outputs": [],
   "source": [
    "# Prompt 1: Problem + Options\n",
    "num_example = 10\n",
    "for i in range(5,num_example):\n",
    "    text_to_explain = dataset[i][\"Problem\"] + \" \" + dataset[i][\"options\"]\n",
    "    probabilities, predicted_classes = predict_proba([text_to_explain])\n",
    "    exp = explainer.explain_instance(text_to_explain, lambda x: predict_proba(x)[0], num_features=6, num_samples=200, top_labels=5)\n",
    "    exp.show_in_notebook(text=True,labels=[predicted_classes[0]])\n",
    "    exp.show_in_notebook(text=False,labels=[0,1,2,3,4])\n"
   ]
  },
  {
   "cell_type": "code",
   "execution_count": null,
   "metadata": {},
   "outputs": [],
   "source": [
    "exp.show_in_notebook(text=text_to_explain,labels=[0,1,2,3,4])"
   ]
  },
  {
   "cell_type": "code",
   "execution_count": null,
   "metadata": {},
   "outputs": [],
   "source": [
    "# Prompt 2: Problem + Rationale + Options\n",
    "num_example = 5\n",
    "for i in range(num_example):\n",
    "    text_to_explain = dataset[i][\"Problem\"] + \" \" + dataset[i][\"Rationale\"] + \" \" + dataset[i][\"options\"]\n",
    "    exp = explainer.explain_instance(text_to_explain, lambda x: predict_proba(x)[0], num_features=6, num_samples=200, top_labels=5)\n",
    "    exp.show_in_notebook(text=text_to_explain,labels=[predicted_classes[0]])\n",
    "    exp.show_in_notebook(text=False,labels=[0,1,2,3,4])"
   ]
  },
  {
   "cell_type": "code",
   "execution_count": null,
   "metadata": {},
   "outputs": [],
   "source": [
    "# Prompt 4: Problem + Annotated_formula + Options\n",
    "num_example = 1\n",
    "for i in range(num_example):\n",
    "    text_to_explain = dataset[i][\"Problem\"] + \" \" + dataset[i][\"annotated_formula\"] + \" \" + dataset[i][\"options\"]\n",
    "    exp = explainer.explain_instance(text_to_explain, lambda x: predict_proba(x)[0], num_features=6, num_samples=100, top_labels=5)\n",
    "    exp.show_in_notebook(text=text_to_explain,labels=[predicted_classes[0]])\n",
    "    exp.show_in_notebook(text=False,labels=[0,1,2,3,4])"
   ]
  },
  {
   "cell_type": "code",
   "execution_count": null,
   "metadata": {},
   "outputs": [],
   "source": [
    "exp.show_in_notebook(text=text_to_explain,labels=(3,))"
   ]
  },
  {
   "cell_type": "code",
   "execution_count": 8,
   "metadata": {},
   "outputs": [
    {
     "data": {
      "text/plain": [
       "'a multiple choice test consists of 4 questions , and each question has 5 answer choices . in how many r ways can the test be completed if every question is unanswered ? \"5 choices for each of the 4 questions , thus total r of 5 * 5 * 5 * 5 = 5 ^ 4 = 625 ways to answer all of them .\" a ) 24 , b ) 120 , c ) 625 , d ) 720 , e ) 1024'"
      ]
     },
     "execution_count": 8,
     "metadata": {},
     "output_type": "execute_result"
    }
   ],
   "source": [
    "text_to_explain = 'a multiple choice test consists of 4 questions , and each question has 5 answer choices . in how many r ways can the test be completed if every question is unanswered ? \"5 choices for each of the 4 questions , thus total r of 5 * 5 * 5 * 5 = 5 ^ 4 = 625 ways to answer all of them .\" a ) 24 , b ) 120 , c ) 625 , d ) 720 , e ) 1024'\n",
    "text_to_explain"
   ]
  },
  {
   "cell_type": "code",
   "execution_count": null,
   "metadata": {},
   "outputs": [],
   "source": [
    "exp.show_in_notebook(text=text_to_explain,labels=[0])\n",
    "exp.show_in_notebook(text=False,labels=[0,1,2,3,4])\n"
   ]
  },
  {
   "cell_type": "code",
   "execution_count": 27,
   "metadata": {},
   "outputs": [],
   "source": [
    "dataset=['a 3 - digit positive integer is chosen at random . what is the probability that the product of its digits is even ? p ( three odd digits ) = 5 / 9 * 5 / 10 * 5 / 10 = 5 / 36 ( first digit can not be 0 , so we have a total of 9 digits , 4 even and 5 odd ) . therefore , p ( at least one even digit ) = 1 - 5 / 36 = 31 / 36 . a ) 1 / 2 , b ) 31 / 36 , c ) 49 / 54 , d ) 7 / 8 , e ) 11 / 12',\n",
    "         \"if x and y are positive integers and 7 + x + y + xy = 21 , what is the value of x + y ? 'try each answer choices . for a : 7 + 3 + xy = 21 ; xy = 11 ( impossible , 11 prime number . 1 + 11 does n ' t equal 3 ) for b : 7 + 5 + xy = 21 ; xy = 9 ( no combination of xy = 9 and x + y = 5 ) for c : 7 + 6 + xy = 21 ; xy = 8 ( x + y = 6 ; x = 2 , y = 4 or x = 4 , y = 2 ) for d : 7 + 8 + xy = 21 ; xy = 6 ( no combination of xy = 6 and x + y = 8 ) for e : 7 + 9 + xy = 21 ; xy = 5 ( impossible , 5 prime number . 1 + 5 does n ' t equal 9 ).' a ) 3 , b ) 5 , c ) 6 , d ) 8 , e ) 9\",\n",
    "         \"the hcf and lcm of two numbers m and n are respectively 6 and 210 . if m + n = 72 , then 1 / m + 1 / n is equal to answer we have , m x n = 6 x 210 = 1260 ∴ 1 / m + 1 / n = ( m + n ) / mn = 72 / 1260 = 4 / 70 = 2 / 35 correct option : d a ) 1 / 35 , b ) 3 / 35 , c ) 5 / 37 , d ) 2 / 35 , e ) none\",\n",
    "         \"in a kilometer race , a beats b by 48 meters or 12 seconds . what time does a take to complete the race ? 'time taken by b run 1000 meters = ( 1000 * 12 ) / 48 = 250 sec . time taken by a = 250 - 12 = 238 sec .' a ) 238 sec , b ) 190 sec , c ) 667 sec , d ) 167 sec , e ) 176 sec\"]"
   ]
  },
  {
   "cell_type": "code",
   "execution_count": 28,
   "metadata": {},
   "outputs": [
    {
     "data": {
      "text/plain": [
       "'a 3 - digit positive integer is chosen at random . what is the probability that the product of its digits is even ? p ( three odd digits ) = 5 / 9 * 5 / 10 * 5 / 10 = 5 / 36 ( first digit can not be 0 , so we have a total of 9 digits , 4 even and 5 odd ) . therefore , p ( at least one even digit ) = 1 - 5 / 36 = 31 / 36 . a ) 1 / 2 , b ) 31 / 36 , c ) 49 / 54 , d ) 7 / 8 , e ) 11 / 12'"
      ]
     },
     "execution_count": 28,
     "metadata": {},
     "output_type": "execute_result"
    }
   ],
   "source": [
    "dataset[0]"
   ]
  },
  {
   "cell_type": "code",
   "execution_count": null,
   "metadata": {},
   "outputs": [],
   "source": [
    "for data in dataset:\n",
    "    text_to_explain = data\n",
    "    probabilities, predicted_classes = predict_proba([text_to_explain])\n",
    "    exp = explainer.explain_instance(text_to_explain, lambda x: predict_proba(x)[0], num_features=6, num_samples=100, top_labels=5)\n",
    "    exp.show_in_notebook(text=text_to_explain,labels=[predicted_classes[0]])\n",
    "    exp.show_in_notebook(text=False,labels=[0,1,2,3,4])"
   ]
  }
 ],
 "metadata": {
  "kernelspec": {
   "display_name": "Python 3",
   "language": "python",
   "name": "python3"
  },
  "language_info": {
   "codemirror_mode": {
    "name": "ipython",
    "version": 3
   },
   "file_extension": ".py",
   "mimetype": "text/x-python",
   "name": "python",
   "nbconvert_exporter": "python",
   "pygments_lexer": "ipython3",
   "version": "3.10.12"
  }
 },
 "nbformat": 4,
 "nbformat_minor": 2
}
